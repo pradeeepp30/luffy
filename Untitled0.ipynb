{
  "nbformat": 4,
  "nbformat_minor": 0,
  "metadata": {
    "colab": {
      "provenance": [],
      "authorship_tag": "ABX9TyMAVYcCC3GW70Sqbx6y9/0W",
      "include_colab_link": true
    },
    "kernelspec": {
      "name": "python3",
      "display_name": "Python 3"
    },
    "language_info": {
      "name": "python"
    }
  },
  "cells": [
    {
      "cell_type": "markdown",
      "metadata": {
        "id": "view-in-github",
        "colab_type": "text"
      },
      "source": [
        "<a href=\"https://colab.research.google.com/github/pradeeepp30/luffy/blob/main/Untitled0.ipynb\" target=\"_parent\"><img src=\"https://colab.research.google.com/assets/colab-badge.svg\" alt=\"Open In Colab\"/></a>"
      ]
    },
    {
      "cell_type": "code",
      "execution_count": null,
      "metadata": {
        "id": "hz4-c5B7mIp0"
      },
      "outputs": [],
      "source": []
    },
    {
      "cell_type": "markdown",
      "source": [
        "NAME:PRADEEP JEGAN\n",
        "\n",
        "USN:23BTRSN037\n",
        "\n",
        "SECTION:CSE-SE"
      ],
      "metadata": {
        "id": "4CjaSjX_nFGf"
      }
    },
    {
      "cell_type": "code",
      "source": [
        "S1 = {1,2,3}\n",
        "S1"
      ],
      "metadata": {
        "colab": {
          "base_uri": "https://localhost:8080/"
        },
        "id": "9-lT0aUFoK-d",
        "outputId": "7e0a1fdc-875d-4da2-ab99-f77087006d29"
      },
      "execution_count": 1,
      "outputs": [
        {
          "output_type": "execute_result",
          "data": {
            "text/plain": [
              "{1, 2, 3}"
            ]
          },
          "metadata": {},
          "execution_count": 1
        }
      ]
    },
    {
      "cell_type": "code",
      "source": [
        "items = [1,2,3]\n",
        "s2 = set(items)\n",
        "s2"
      ],
      "metadata": {
        "colab": {
          "base_uri": "https://localhost:8080/"
        },
        "id": "YtO_0bD7ok8g",
        "outputId": "52c9e582-d594-4f54-c791-e3d289f3ae3d"
      },
      "execution_count": 2,
      "outputs": [
        {
          "output_type": "execute_result",
          "data": {
            "text/plain": [
              "{1, 2, 3}"
            ]
          },
          "metadata": {},
          "execution_count": 2
        }
      ]
    },
    {
      "cell_type": "code",
      "source": [
        "from sympy import FiniteSet\n",
        "numbers = [1,3,5,2,8]\n",
        "FiniteSet(*numbers)"
      ],
      "metadata": {
        "colab": {
          "base_uri": "https://localhost:8080/",
          "height": 37
        },
        "id": "ApNRkU-9o8S2",
        "outputId": "d3a52096-2476-4004-d2bf-b560d5af472e"
      },
      "execution_count": 4,
      "outputs": [
        {
          "output_type": "execute_result",
          "data": {
            "text/plain": [
              "{1, 2, 3, 5, 8}"
            ],
            "text/latex": "$\\displaystyle \\left\\{1, 2, 3, 5, 8\\right\\}$"
          },
          "metadata": {},
          "execution_count": 4
        }
      ]
    },
    {
      "cell_type": "code",
      "source": [
        "from sympy import FiniteSet\n",
        "s = FiniteSet()\n",
        "s"
      ],
      "metadata": {
        "colab": {
          "base_uri": "https://localhost:8080/",
          "height": 37
        },
        "id": "W27iFh96pbQJ",
        "outputId": "7cfb5983-1305-493f-beee-85338477df41"
      },
      "execution_count": 5,
      "outputs": [
        {
          "output_type": "execute_result",
          "data": {
            "text/plain": [
              "EmptySet"
            ],
            "text/latex": "$\\displaystyle \\emptyset$"
          },
          "metadata": {},
          "execution_count": 5
        }
      ]
    },
    {
      "cell_type": "code",
      "source": [
        "from sympy import FiniteSet\n",
        "s = FiniteSet(1,2,3)\n",
        "t = FiniteSet(2,4,6)\n",
        "s|(t)"
      ],
      "metadata": {
        "colab": {
          "base_uri": "https://localhost:8080/",
          "height": 37
        },
        "id": "Z2QPM2I0xQGs",
        "outputId": "49d2ac01-d380-4d79-afcb-684787416cc7"
      },
      "execution_count": 27,
      "outputs": [
        {
          "output_type": "execute_result",
          "data": {
            "text/plain": [
              "{1, 2, 3, 4, 6}"
            ],
            "text/latex": "$\\displaystyle \\left\\{1, 2, 3, 4, 6\\right\\}$"
          },
          "metadata": {},
          "execution_count": 27
        }
      ]
    },
    {
      "cell_type": "code",
      "source": [
        "from sympy import FiniteSet\n",
        "s = FiniteSet(1,2,3)\n",
        "t = FiniteSet(2,4,6)\n",
        "s.union(t)"
      ],
      "metadata": {
        "colab": {
          "base_uri": "https://localhost:8080/",
          "height": 37
        },
        "id": "sc4t1htTpqMq",
        "outputId": "e22aa063-a05f-4f34-e59b-35df52195ab9"
      },
      "execution_count": 26,
      "outputs": [
        {
          "output_type": "execute_result",
          "data": {
            "text/plain": [
              "{1, 2, 3, 4, 6}"
            ],
            "text/latex": "$\\displaystyle \\left\\{1, 2, 3, 4, 6\\right\\}$"
          },
          "metadata": {},
          "execution_count": 26
        }
      ]
    },
    {
      "cell_type": "code",
      "source": [
        "from sympy import FiniteSet\n",
        "s = FiniteSet(1,2,3)\n",
        "t = FiniteSet(2,4,6)\n",
        "u = FiniteSet(3,5,7)\n",
        "s.union(t).union(u)"
      ],
      "metadata": {
        "colab": {
          "base_uri": "https://localhost:8080/",
          "height": 37
        },
        "id": "7zjXNdMhqO8m",
        "outputId": "a29f1753-1e56-44cd-a2cf-8ffd83c797ea"
      },
      "execution_count": 8,
      "outputs": [
        {
          "output_type": "execute_result",
          "data": {
            "text/plain": [
              "{1, 2, 3, 4, 5, 6, 7}"
            ],
            "text/latex": "$\\displaystyle \\left\\{1, 2, 3, 4, 5, 6, 7\\right\\}$"
          },
          "metadata": {},
          "execution_count": 8
        }
      ]
    },
    {
      "cell_type": "code",
      "source": [
        "from sympy import FiniteSet\n",
        "s = FiniteSet(1,2,3)\n",
        "t = FiniteSet(2,4,6)\n",
        "s.intersect(t)"
      ],
      "metadata": {
        "colab": {
          "base_uri": "https://localhost:8080/",
          "height": 37
        },
        "id": "jJ50W207qymL",
        "outputId": "08043ff0-156d-4015-9472-26ca1d6db327"
      },
      "execution_count": 9,
      "outputs": [
        {
          "output_type": "execute_result",
          "data": {
            "text/plain": [
              "{2}"
            ],
            "text/latex": "$\\displaystyle \\left\\{2\\right\\}$"
          },
          "metadata": {},
          "execution_count": 9
        }
      ]
    },
    {
      "cell_type": "code",
      "source": [
        "from sympy import FiniteSet\n",
        "s = FiniteSet(1,2,3)\n",
        "t = FiniteSet(2,4,6)\n",
        "s&(t)"
      ],
      "metadata": {
        "colab": {
          "base_uri": "https://localhost:8080/",
          "height": 37
        },
        "id": "rHfFGZo8xr0z",
        "outputId": "feaf641a-1f6b-40b5-8097-0185b5399608"
      },
      "execution_count": 28,
      "outputs": [
        {
          "output_type": "execute_result",
          "data": {
            "text/plain": [
              "{2}"
            ],
            "text/latex": "$\\displaystyle \\left\\{2\\right\\}$"
          },
          "metadata": {},
          "execution_count": 28
        }
      ]
    },
    {
      "cell_type": "code",
      "source": [
        "from sympy import FiniteSet\n",
        "s = FiniteSet(1,2,3)\n",
        "t = FiniteSet(2,4,6)\n",
        "u = FiniteSet(3,5,7)\n",
        "s.intersect(t).intersect(u)"
      ],
      "metadata": {
        "colab": {
          "base_uri": "https://localhost:8080/",
          "height": 37
        },
        "id": "waQRKVUgrQaS",
        "outputId": "af971f0c-6f24-4bf0-ee42-9162dc88ea39"
      },
      "execution_count": 29,
      "outputs": [
        {
          "output_type": "execute_result",
          "data": {
            "text/plain": [
              "EmptySet"
            ],
            "text/latex": "$\\displaystyle \\emptyset$"
          },
          "metadata": {},
          "execution_count": 29
        }
      ]
    },
    {
      "cell_type": "code",
      "source": [],
      "metadata": {
        "id": "8tAymTbyyIF9"
      },
      "execution_count": null,
      "outputs": []
    },
    {
      "cell_type": "code",
      "source": [
        "from sympy import FiniteSet\n",
        "def probability(space,event):\n",
        "  return len(event)/len(space)\n",
        "s = FiniteSet(1,2,3,4,5,6)\n",
        "a = FiniteSet(2,3,5)\n",
        "b = FiniteSet(1,3,5)\n",
        "e = a&b\n",
        "Prob = probability(s,a)+probability(s,b)-probability(s,e)\n",
        "Prob"
      ],
      "metadata": {
        "colab": {
          "base_uri": "https://localhost:8080/"
        },
        "id": "S5cYEzCAruw6",
        "outputId": "440b06f2-a05f-4ea7-f804-588b83e4bcff"
      },
      "execution_count": 22,
      "outputs": [
        {
          "output_type": "execute_result",
          "data": {
            "text/plain": [
              "0.6666666666666667"
            ]
          },
          "metadata": {},
          "execution_count": 22
        }
      ]
    },
    {
      "cell_type": "code",
      "source": [
        "def conditional_probability(pD,pC,pD_C):\n",
        "  return(pD_C)/(pC)\n",
        "pD = 0.36\n",
        "pC = 0.30\n",
        "pD_C = 0.0792\n",
        "conditional_probability(pD,pC,pD_C)"
      ],
      "metadata": {
        "colab": {
          "base_uri": "https://localhost:8080/"
        },
        "id": "ru7FmBsms4vz",
        "outputId": "fb78ad64-63b0-471c-dae9-66c62db7c77d"
      },
      "execution_count": 24,
      "outputs": [
        {
          "output_type": "execute_result",
          "data": {
            "text/plain": [
              "0.264"
            ]
          },
          "metadata": {},
          "execution_count": 24
        }
      ]
    },
    {
      "cell_type": "code",
      "source": [
        "def bayesTheorem(pE1,pE2,pAE1,pAE2):\n",
        "  return(pE1*pAE1)/(pE1*pAE1+pE2*pAE1)\n",
        "pE1 = 0.5\n",
        "pE2 = 0.5\n",
        "pAE1 = 3/5\n",
        "pAE2 = 3/7\n",
        "bayesTheorem(pE1,pE2,pAE1,pAE2)"
      ],
      "metadata": {
        "colab": {
          "base_uri": "https://localhost:8080/"
        },
        "id": "VSsNDcc8uvvY",
        "outputId": "a6831626-f899-4ba8-8576-c54d4e22f3e4"
      },
      "execution_count": 25,
      "outputs": [
        {
          "output_type": "execute_result",
          "data": {
            "text/plain": [
              "0.5"
            ]
          },
          "metadata": {},
          "execution_count": 25
        }
      ]
    }
  ]
}